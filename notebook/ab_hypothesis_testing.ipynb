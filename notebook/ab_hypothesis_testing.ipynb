{
 "cells": [
  {
   "cell_type": "markdown",
   "metadata": {},
   "source": [
    "# A/B Hypothesis Testing "
   ]
  },
  {
   "cell_type": "code",
   "execution_count": 1,
   "metadata": {},
   "outputs": [],
   "source": [
    "# Import necessary libraries\n",
    "import pandas as pd\n",
    "import numpy as np\n",
    "\n"
   ]
  },
  {
   "cell_type": "code",
   "execution_count": 2,
   "metadata": {},
   "outputs": [],
   "source": [
    "import os, sys\n",
    "notebook_dir = os.getcwd()\n",
    "sys.path.append(os.path.abspath(os.path.join(notebook_dir,'..')))"
   ]
  },
  {
   "cell_type": "code",
   "execution_count": 3,
   "metadata": {},
   "outputs": [],
   "source": [
    "from scripts.ab_hypothesis_testing import ABHypothesisTesting\n",
    "from scripts.data_load import load_data"
   ]
  },
  {
   "cell_type": "code",
   "execution_count": 4,
   "metadata": {},
   "outputs": [
    {
     "name": "stderr",
     "output_type": "stream",
     "text": [
      "c:\\Users\\USER\\Documents\\10X Exercises\\Week-3_AlphaCare_Insurance_Solutions\\scripts\\data_load.py:4: DtypeWarning: Columns (32,37) have mixed types. Specify dtype option on import or set low_memory=False.\n",
      "  return pd.read_csv(file_path, sep=\"|\")\n"
     ]
    }
   ],
   "source": [
    "df = load_data('../data/MachineLearningRating_v3.txt')"
   ]
  },
  {
   "cell_type": "code",
   "execution_count": 5,
   "metadata": {},
   "outputs": [],
   "source": [
    "# Initialize the hypothesis testing class\n",
    "hypothesis_testing = ABHypothesisTesting(df)\n"
   ]
  },
  {
   "cell_type": "markdown",
   "metadata": {},
   "source": [
    "## Risk Differences Across Provinces\n",
    "\n",
    "### Analysis Objective\n",
    "This test examines whether there are significant differences in **risk levels** (measured by `Total Claims`) across provinces. The goal is to understand how risk varies regionally, which can inform province-specific policies or risk management strategies.\n",
    "\n",
    "### Hypotheses\n",
    "- **Null Hypothesis (H₀):** No risk differences across provinces.\n",
    "- **Alternative Hypothesis (H₁):** Risk differences exist across provinces."
   ]
  },
  {
   "cell_type": "code",
   "execution_count": 6,
   "metadata": {},
   "outputs": [
    {
     "data": {
      "text/plain": [
       "{'Test': 'ANOVA',\n",
       " 'Null Hypothesis': 'No risk differences across provinces',\n",
       " 'F-Statistic': np.float64(5.8494137624076075),\n",
       " 'p-Value': np.float64(1.6782057588675903e-07),\n",
       " 'Reject Null': np.True_}"
      ]
     },
     "execution_count": 6,
     "metadata": {},
     "output_type": "execute_result"
    }
   ],
   "source": [
    "# Test if there are risk differences across provinces\n",
    "province_test_result = hypothesis_testing.test_risk_across_provinces()\n",
    "province_test_result\n"
   ]
  },
  {
   "cell_type": "markdown",
   "metadata": {},
   "source": [
    "\n",
    "### Results\n",
    "- **Test Type:** ANOVA (Analysis of Variance)\n",
    "  - Compares the mean `Total Claims` across multiple provinces.\n",
    "- **F-Statistic:** 5.849\n",
    "  - Indicates that the variance in `Total Claims` between provinces is significantly greater than the variance within provinces.\n",
    "- **p-Value:** 1.6782\n",
    "  - This value is greater than the common significance level of 0.05, suggesting the observed differences are highly likely to be due to random chance.\n",
    "- **Decision:** Fail to reject the null hypothesis (H₀).\n",
    "\n",
    "### Conclusion\n",
    "There is no strong evidence to conclude that **significant risk differences exist across provinces**.\n",
    "\n",
    "### Implications\n",
    "1. **Risk Management:** Provinces with higher average claims may require stricter risk mitigation measures, while lower-risk provinces could benefit from premium reductions.\n",
    "2. **Pricing Strategy:** Develop province-specific premium structures to reflect the risk profile of each province.\n",
    "3. **Further Analysis:** Investigate the factors contributing to risk differences, such as demographic, geographic, or economic factors.\n",
    "\n"
   ]
  },
  {
   "cell_type": "markdown",
   "metadata": {},
   "source": [
    "## Risk Differences Between Zip Codes\n",
    "\n",
    "### Analysis Objective\n",
    "This test examines whether there are significant differences in **risk levels** (measured by `Total Claims`) between zip codes. The goal is to evaluate how risk varies geographically at a finer level, providing insights for localized strategies.\n",
    "\n",
    "### Hypotheses\n",
    "- **Null Hypothesis (H₀):** No risk differences between zip codes.\n",
    "- **Alternative Hypothesis (H₁):** Risk differences exist between zip codes."
   ]
  },
  {
   "cell_type": "code",
   "execution_count": 7,
   "metadata": {},
   "outputs": [
    {
     "data": {
      "text/plain": [
       "{'Test': 'ANOVA',\n",
       " 'Null Hypothesis': 'No risk differences between zip codes',\n",
       " 'F-Statistic': np.float64(0.9419762214391849),\n",
       " 'p-Value': np.float64(0.8906511279164051),\n",
       " 'Reject Null': np.False_}"
      ]
     },
     "execution_count": 7,
     "metadata": {},
     "output_type": "execute_result"
    }
   ],
   "source": [
    "# Test if there are risk differences between zip codes\n",
    "zipcode_test_result = hypothesis_testing.test_risk_between_zipcodes()\n",
    "zipcode_test_result\n"
   ]
  },
  {
   "cell_type": "markdown",
   "metadata": {},
   "source": [
    "### Results\n",
    "- **Test Type:** ANOVA (Analysis of Variance)\n",
    "  - Compares the mean `Total Claims` across multiple zip codes.\n",
    "- **F-Statistic:** 0.94\n",
    "  - Suggests a relatively low variance in `Total Claims` between zip codes compared to within zip codes.\n",
    "- **p-Value:** 0.89\n",
    "  - This value is greater than the common significance level of 0.05, indicating that the observed differences are likely due to random chance.\n",
    "- **Decision:** Fail to reject the null hypothesis (H₀).\n",
    "\n",
    "### Conclusion\n",
    "There is **insufficient evidence** to conclude that significant risk differences exist between zip codes. Any observed differences in `Total Claims` are likely due to random variation.\n",
    "\n",
    "### Implications\n",
    "1. **Uniform Risk Strategy:** Since risk levels appear consistent across zip codes, there may be no need for differentiated risk management or pricing strategies based on zip codes.\n",
    "2. **Further Exploration:** Investigate other variables (e.g., demographics, policy types) that may reveal meaningful differences between zip codes.\n",
    "3. **Combination Analysis:** Consider analyzing zip code risk differences alongside other factors, such as region or gender, for a more comprehensive understanding.\n",
    "\n",
    "### Next Steps\n",
    "- Visualize `Total Claims` by zip code to confirm the absence of meaningful trends.\n",
    "- Conduct subgroup analyses (e.g., zip code and gender combinations) to uncover any hidden patterns.\n"
   ]
  },
  {
   "cell_type": "markdown",
   "metadata": {},
   "source": [
    "## Margin Differences Between Zip Codes\n",
    "\n",
    "### Analysis Objective\n",
    "This test examines whether **profit margins** (calculated as `Premium - Total Claims`) differ significantly across zip codes. Profit margin reflects the profitability of policies in each zip code, making this analysis critical for identifying underperforming or highly profitable areas.\n",
    "\n",
    "### Key Difference from Risk Differences Test\n",
    "- **Test Risk Between Zip Codes:**\n",
    "  - Focuses on analyzing **Total Claims** to determine if there are significant risk differences between zip codes.\n",
    "  - Guides **risk management** strategies by identifying regions with higher or lower claims.\n",
    "- **Test Margin Differences Between Zip Codes:**\n",
    "  - Focuses on analyzing **Profit Margins** (`Premium - Total Claims`) to determine if there are significant profitability differences between zip codes.\n",
    "  - Guides **pricing and profitability optimization** by highlighting regions that are overperforming or underperforming.\n",
    "\n",
    "### Hypotheses\n",
    "- **Null Hypothesis (H₀):** No significant margin differences between zip codes.\n",
    "- **Alternative Hypothesis (H₁):** Significant margin differences exist between zip codes."
   ]
  },
  {
   "cell_type": "code",
   "execution_count": 10,
   "metadata": {},
   "outputs": [
    {
     "data": {
      "text/plain": [
       "{'Test': 'ANOVA',\n",
       " 'Null Hypothesis': 'No significant margin differences between zip codes',\n",
       " 'F-Statistic': np.float64(0.8707474893589263),\n",
       " 'p-Value': np.float64(0.9976859758015036),\n",
       " 'Reject Null': np.False_}"
      ]
     },
     "execution_count": 10,
     "metadata": {},
     "output_type": "execute_result"
    }
   ],
   "source": [
    "# Test if there are significant margin differences between zip codes\n",
    "margin_test_result = hypothesis_testing.test_margin_difference_between_zipcodes()\n",
    "margin_test_result\n"
   ]
  },
  {
   "cell_type": "markdown",
   "metadata": {},
   "source": [
    "### Results\n",
    "- **F-Statistic:** 0.8707\n",
    "  - Indicates a large variance in profit margins across zip codes compared to within-group variance.\n",
    "- **p-Value:** 0.997\n",
    "  - This value is above the common significance level of 0.05, indicating that the observed differences are highly unlikely to be due to random chance.\n",
    "- **Decision:** Fail to reject the null hypothesis (H₀).\n",
    "\n",
    "### Conclusion\n",
    "There is no strong evidence to conclude that **significant profit margin differences exist between zip codes**.\n",
    "\n",
    "### Implications\n",
    "1. **Profit Optimization:** Tailor strategies to specific zip codes based on their profitability. For example:\n",
    "   - Focus on enhancing profitability in underperforming zip codes.\n",
    "   - Sustain or expand in highly profitable zip codes.\n",
    "2. **Pricing Adjustments:** Evaluate zip codes with lower profit margins and consider revising premiums or reducing costs.\n",
    "3. **Further Exploration:** Investigate factors driving these differences, such as demographics, policy mix, or claim frequency.\n",
    "\n"
   ]
  },
  {
   "cell_type": "markdown",
   "metadata": {},
   "source": [
    "## Interpretation: Risk Differences Between Genders\n",
    "\n",
    "### Analysis Objective\n",
    "This test examines whether there are significant differences in **risk levels** (measured by `Total Claims`) between genders. Understanding risk differences by gender can help insurers design gender-specific policies or adjust premiums based on claims data.\n",
    "\n",
    "### Hypotheses\n",
    "- **Null Hypothesis (H₀):** No significant risk differences between women and men.\n",
    "- **Alternative Hypothesis (H₁):** Significant risk differences exist between women and men."
   ]
  },
  {
   "cell_type": "code",
   "execution_count": 9,
   "metadata": {},
   "outputs": [
    {
     "data": {
      "text/plain": [
       "{'Test': 'T-Test',\n",
       " 'Null Hypothesis': 'No significant risk differences between women and men',\n",
       " 'T-Statistic': np.float64(-0.296353891400699),\n",
       " 'p-Value': np.float64(0.7669656471629474),\n",
       " 'Reject Null': np.False_}"
      ]
     },
     "execution_count": 9,
     "metadata": {},
     "output_type": "execute_result"
    }
   ],
   "source": [
    "# Test if there are significant risk differences between genders\n",
    "gender_test_result = hypothesis_testing.test_risk_difference_gender()\n",
    "gender_test_result\n"
   ]
  },
  {
   "cell_type": "markdown",
   "metadata": {},
   "source": [
    "### Results\n",
    "- **Test Type:** T-Test (Independent Samples)\n",
    "  - Compares the mean `Total Claims` between two independent groups: women and men.\n",
    "- **T-Statistic:** -0.2963\n",
    "  - Indicates the magnitude of the difference between the means relative to the variability within groups.\n",
    "- **p-Value:** 0.767\n",
    "  - This value is greater than the common significance level of 0.05, suggesting that the observed differences are highly likely to be due to random chance.\n",
    "- **Decision:** Reject the null hypothesis (H₀).\n",
    "\n",
    "### Conclusion\n",
    "There is no strong evidence to conclude that **significant risk differences exist between women and men**.\n",
    "\n",
    "### Implications\n",
    "1. **Gender-Specific Strategies:**\n",
    "   - If men or women exhibit consistently higher claims, tailor policies, premiums, or risk mitigation strategies accordingly.\n",
    "2. **Premium Adjustments:**\n",
    "   - For the gender with lower average claims, consider offering reduced premiums to attract more clients.\n",
    "3. **Further Analysis:**\n",
    "   - Investigate underlying factors contributing to the differences, such as claim frequency, type of coverage, or demographic influences.\n"
   ]
  }
 ],
 "metadata": {
  "kernelspec": {
   "display_name": ".venv",
   "language": "python",
   "name": "python3"
  },
  "language_info": {
   "codemirror_mode": {
    "name": "ipython",
    "version": 3
   },
   "file_extension": ".py",
   "mimetype": "text/x-python",
   "name": "python",
   "nbconvert_exporter": "python",
   "pygments_lexer": "ipython3",
   "version": "3.13.1"
  }
 },
 "nbformat": 4,
 "nbformat_minor": 2
}
